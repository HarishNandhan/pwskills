{
 "cells": [
  {
   "cell_type": "code",
   "execution_count": 12,
   "id": "2cd0e4d7-92f0-4dcc-9695-62b3602df12f",
   "metadata": {},
   "outputs": [
    {
     "data": {
      "text/plain": [
       "array(['1', '2', '3', '4', '5'], dtype='<U1')"
      ]
     },
     "execution_count": 12,
     "metadata": {},
     "output_type": "execute_result"
    }
   ],
   "source": [
    "import numpy as np\n",
    "\n",
    "list_ = ['1','2','3','4','5']\n",
    "\n",
    "array_list = np.array(object = list_)\n",
    "array_list\n",
    "# list_"
   ]
  },
  {
   "cell_type": "code",
   "execution_count": 52,
   "id": "6fd598aa-403b-4583-b651-6ffcab439a43",
   "metadata": {},
   "outputs": [
    {
     "name": "stdout",
     "output_type": "stream",
     "text": [
      "<class 'numpy.ndarray'>\n",
      "<class 'list'>\n"
     ]
    }
   ],
   "source": [
    "#q1\n",
    "print(type(array_list))\n",
    "print(type(list_))"
   ]
  },
  {
   "cell_type": "code",
   "execution_count": 58,
   "id": "6b8d723d-77a0-474e-badd-8dc2fecaf3f2",
   "metadata": {},
   "outputs": [
    {
     "name": "stdout",
     "output_type": "stream",
     "text": [
      "<class 'numpy.str_'>\n",
      "<class 'numpy.str_'>\n",
      "<class 'numpy.str_'>\n",
      "<class 'numpy.str_'>\n",
      "<class 'numpy.str_'>\n"
     ]
    }
   ],
   "source": [
    "#q2\n",
    "for i in array_list:\n",
    "    print(type(i))"
   ]
  },
  {
   "cell_type": "code",
   "execution_count": 56,
   "id": "14e28872-756d-4607-97a5-2eb71fd3c334",
   "metadata": {},
   "outputs": [
    {
     "name": "stdout",
     "output_type": "stream",
     "text": [
      "<class 'str'>\n",
      "<class 'str'>\n",
      "<class 'str'>\n",
      "<class 'str'>\n",
      "<class 'str'>\n"
     ]
    }
   ],
   "source": [
    "for i in list_: # List_ has data type string\n",
    "  print(type(i))  "
   ]
  },
  {
   "cell_type": "code",
   "execution_count": 60,
   "id": "7562f626-374f-43a5-bc0a-df7e936fcb6a",
   "metadata": {},
   "outputs": [
    {
     "data": {
      "text/plain": [
       "array([1, 2, 3, 4, 5])"
      ]
     },
     "execution_count": 60,
     "metadata": {},
     "output_type": "execute_result"
    }
   ],
   "source": [
    "array_list = np.array(object = list_, dtype = int)\n",
    "array_list"
   ]
  },
  {
   "cell_type": "code",
   "execution_count": 62,
   "id": "b7daf5ef-9a9e-4027-8fb1-c84afb922c2c",
   "metadata": {},
   "outputs": [
    {
     "name": "stdout",
     "output_type": "stream",
     "text": [
      "<class 'numpy.int32'>\n",
      "<class 'numpy.int32'>\n",
      "<class 'numpy.int32'>\n",
      "<class 'numpy.int32'>\n",
      "<class 'numpy.int32'>\n"
     ]
    }
   ],
   "source": [
    "#q3\n",
    "for i in array_list:\n",
    "    print(type(i))"
   ]
  },
  {
   "cell_type": "markdown",
   "id": "ddf0acbc-7ed7-4e1e-a55e-0a1876850fa0",
   "metadata": {},
   "source": [
    "After this modification, the elements in the array_list will turn to 'INT32' datatype but the data type of the list_ elements will remain same as Strings."
   ]
  },
  {
   "cell_type": "code",
   "execution_count": 69,
   "id": "d695e268-c087-4987-a519-126d581de9cc",
   "metadata": {},
   "outputs": [
    {
     "data": {
      "text/plain": [
       "array([[1, 2, 3],\n",
       "       [4, 5, 6]])"
      ]
     },
     "execution_count": 69,
     "metadata": {},
     "output_type": "execute_result"
    }
   ],
   "source": [
    "import numpy as np\n",
    "\n",
    "num_list = [ [ 1 , 2 , 3 ] , [ 4 , 5 , 6 ] ]\n",
    "\n",
    "num_array = np.array(object = num_list)\n",
    "num_array"
   ]
  },
  {
   "cell_type": "code",
   "execution_count": 71,
   "id": "a547aefb-6af1-4053-b303-eefd9343b3f3",
   "metadata": {},
   "outputs": [
    {
     "data": {
      "text/plain": [
       "(2, 3)"
      ]
     },
     "execution_count": 71,
     "metadata": {},
     "output_type": "execute_result"
    }
   ],
   "source": [
    "#q4\n",
    "num_array.shape # Returns the Dimension of the Array"
   ]
  },
  {
   "cell_type": "code",
   "execution_count": 89,
   "id": "b1faab91-7ad6-41f0-95f8-ab4fb4f928f2",
   "metadata": {},
   "outputs": [
    {
     "data": {
      "text/plain": [
       "6"
      ]
     },
     "execution_count": 89,
     "metadata": {},
     "output_type": "execute_result"
    }
   ],
   "source": [
    "num_array.size # Returns the number of elements in the array"
   ]
  },
  {
   "cell_type": "code",
   "execution_count": 91,
   "id": "145b755c-6b57-4144-bb6d-06b7a5843aee",
   "metadata": {},
   "outputs": [
    {
     "data": {
      "text/plain": [
       "array([[0., 0., 0.],\n",
       "       [0., 0., 0.],\n",
       "       [0., 0., 0.]])"
      ]
     },
     "execution_count": 91,
     "metadata": {},
     "output_type": "execute_result"
    }
   ],
   "source": [
    "#q5\n",
    "zero_array = np.zeros((3,3))\n",
    "zero_array"
   ]
  },
  {
   "cell_type": "code",
   "execution_count": 93,
   "id": "8f6ddef9-22d7-45ef-b462-a2797dc5e8d3",
   "metadata": {},
   "outputs": [
    {
     "data": {
      "text/plain": [
       "(3, 3)"
      ]
     },
     "execution_count": 93,
     "metadata": {},
     "output_type": "execute_result"
    }
   ],
   "source": [
    "zero_array.shape"
   ]
  },
  {
   "cell_type": "code",
   "execution_count": 95,
   "id": "f2a3d7f1-abc5-4e42-a0b9-74880f2edc10",
   "metadata": {},
   "outputs": [
    {
     "data": {
      "text/plain": [
       "9"
      ]
     },
     "execution_count": 95,
     "metadata": {},
     "output_type": "execute_result"
    }
   ],
   "source": [
    "zero_array.size"
   ]
  },
  {
   "cell_type": "code",
   "execution_count": null,
   "id": "cd8cac4e-cded-4825-ad28-efc7fda744b6",
   "metadata": {},
   "outputs": [],
   "source": [
    "#q6\n"
   ]
  }
 ],
 "metadata": {
  "kernelspec": {
   "display_name": "Python 3 (ipykernel)",
   "language": "python",
   "name": "python3"
  },
  "language_info": {
   "codemirror_mode": {
    "name": "ipython",
    "version": 3
   },
   "file_extension": ".py",
   "mimetype": "text/x-python",
   "name": "python",
   "nbconvert_exporter": "python",
   "pygments_lexer": "ipython3",
   "version": "3.12.4"
  }
 },
 "nbformat": 4,
 "nbformat_minor": 5
}
