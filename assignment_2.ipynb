{
 "cells": [
  {
   "cell_type": "markdown",
   "metadata": {},
   "source": [
    "Q1. How do you comment code in Python? What are the different types of comments?"
   ]
  },
  {
   "cell_type": "markdown",
   "metadata": {},
   "source": [
    "Ans:  \n",
    "\n",
    "We can create a comment by '#' so that python will ignore that particular line.  ---> SINGLE LINE COMMENT\n",
    "\n",
    "We can also use \"\"\" Comments \"\"\"\" in the case of multi line comments --> MULTI LINE COMMENT\n",
    "\n",
    "\n",
    "\n"
   ]
  },
  {
   "cell_type": "code",
   "execution_count": 3,
   "metadata": {},
   "outputs": [
    {
     "data": {
      "text/plain": [
       "'My name is Harish Nandhan\\nI am an Engineering Graduate student'"
      ]
     },
     "execution_count": 3,
     "metadata": {},
     "output_type": "execute_result"
    }
   ],
   "source": [
    "# Single line comment\n",
    "\"\"\"My name is Harish Nandhan\n",
    "I am an Engineering Graduate student\"\"\"\n"
   ]
  },
  {
   "cell_type": "markdown",
   "metadata": {},
   "source": [
    "Q2. What are variables in Python? How do you declare and assign values to variables?"
   ]
  },
  {
   "cell_type": "markdown",
   "metadata": {},
   "source": [
    "Ans:  \n",
    "Variables are the containers which can store the data values. \n"
   ]
  },
  {
   "cell_type": "code",
   "execution_count": 7,
   "metadata": {},
   "outputs": [
    {
     "name": "stdout",
     "output_type": "stream",
     "text": [
      "10\n"
     ]
    },
    {
     "data": {
      "text/plain": [
       "int"
      ]
     },
     "execution_count": 7,
     "metadata": {},
     "output_type": "execute_result"
    }
   ],
   "source": [
    "# Declaring a variable\n",
    "\n",
    "a = 10 # here 'a' will act as a container for storing the value '10'\n",
    "\n",
    "print(a) # Variable is accessed by using a print function so that we can get the value of the variable\n",
    "type(a) # It will return the data type of the variable\n"
   ]
  },
  {
   "cell_type": "markdown",
   "metadata": {},
   "source": [
    "Q3. How do you convert one data type to another in Python?"
   ]
  },
  {
   "cell_type": "markdown",
   "metadata": {},
   "source": [
    "Type conversion is a process of converting one data type to another. \n",
    "1. Implicit type conversion\n",
    "2. Explicit type conversion\n"
   ]
  },
  {
   "cell_type": "code",
   "execution_count": 15,
   "metadata": {},
   "outputs": [
    {
     "name": "stdout",
     "output_type": "stream",
     "text": [
      "======Implicit type Conversion Example======\n",
      "<class 'int'>\n",
      "<class 'float'>\n",
      "2.0\n",
      "<class 'float'>\n",
      "======Explicit type Conversion Example======\n",
      "10\n",
      "<class 'int'>\n",
      "10\n",
      "<class 'str'>\n",
      "10.0\n",
      "<class 'float'>\n"
     ]
    }
   ],
   "source": [
    "# Implicit type conversion --> It handles automatically convert one type to another without user involvement\n",
    "\n",
    "print(\"======Implicit type Conversion Example======\")\n",
    "a = 10\n",
    "print(type(a)) \n",
    "b = 5.0\n",
    "print(type(b))\n",
    "c=a//b\n",
    "print(c)\n",
    "print(type(c))\n",
    "\n",
    "\n",
    "# Explicit type conversion --> Here user involvement is required. User converts one data type to another it can be done with the folllowing set of functions eg. str(), int(), float()\n",
    "print(\"======Explicit type Conversion Example======\")\n",
    "\n",
    "a=10\n",
    "print(a)\n",
    "print(type(a))\n",
    "b = str(a)\n",
    "print(b)\n",
    "print(type(b))\n",
    "c = float(a)\n",
    "print(c)\n",
    "print(type(c))\n"
   ]
  },
  {
   "cell_type": "markdown",
   "metadata": {},
   "source": [
    "4. How do you write and execute a Python script from the command line?"
   ]
  },
  {
   "cell_type": "markdown",
   "metadata": {},
   "source": [
    "There are various ways to run a script in Python but before going toward the different ways to run a Python script, we first have to check whether a Python interpreter is installed on the system or not.\n",
    "\n",
    "So in Windows, opening ‘cmd’ (Command Prompt) and typing the following command.\n",
    "python -v \n",
    "This will check whether the python is present and give the version of it.\n",
    "\n",
    "1. Python interactive script\n",
    ">>>print('Hello World!')\n",
    "Hello World!\n",
    "\n",
    "2. Creating a file using .py extension and running the file \n",
    "command :\n",
    ">>>python main.py\n",
    "\n",
    "This command will execute the file and return the output in the command prompt and we need to make sure the path of the file is correct."
   ]
  },
  {
   "cell_type": "markdown",
   "metadata": {},
   "source": [
    "Q5. Given a list my_list = [1, 2, 3, 4, 5], write the code to slice the list and obtain the sub-list [2, 3]."
   ]
  },
  {
   "cell_type": "code",
   "execution_count": 19,
   "metadata": {},
   "outputs": [
    {
     "data": {
      "text/plain": [
       "[2, 3]"
      ]
     },
     "execution_count": 19,
     "metadata": {},
     "output_type": "execute_result"
    }
   ],
   "source": [
    "my_list = [1,2,3,4,5]\n",
    "\n",
    "# Python list slicing \n",
    "# General format : list_name[initial:end:indexjump] here the element before the end element will get printed\n",
    "\n",
    "my_list[1:3]"
   ]
  },
  {
   "cell_type": "markdown",
   "metadata": {},
   "source": [
    "Q6. What is a complex number in mathematics, and how is it represented in Python?"
   ]
  },
  {
   "cell_type": "code",
   "execution_count": 22,
   "metadata": {},
   "outputs": [
    {
     "name": "stdout",
     "output_type": "stream",
     "text": [
      "(2+7j)\n",
      "<class 'complex'>\n",
      "2.0\n",
      "7.0\n"
     ]
    }
   ],
   "source": [
    "# Generally the complex numbers is represented as 'x+yi' format.\n",
    "\"\"\"\n",
    "Python converts the real numbers x and y into complex using the function complex(x,y).\n",
    "The real part can be accessed using the function real()\n",
    " and imaginary part can be represented by imag(). \n",
    "\"\"\"\n",
    "x = 2\n",
    "y = 7\n",
    "\n",
    "z = complex(x,y)\n",
    "print(z)\n",
    "print(type(z))\n",
    "print(z.real)\n",
    "print(z.imag)"
   ]
  },
  {
   "cell_type": "markdown",
   "metadata": {},
   "source": [
    "What is the correct way to declare a variable named age and assign the value 25 to it?"
   ]
  },
  {
   "cell_type": "code",
   "execution_count": 3,
   "metadata": {},
   "outputs": [
    {
     "name": "stdout",
     "output_type": "stream",
     "text": [
      "25\n",
      "<class 'int'>\n"
     ]
    }
   ],
   "source": [
    "age = int(25)\n",
    "print(age)\n",
    "print(type(age))\n",
    "# Age will always be an integer\n"
   ]
  },
  {
   "cell_type": "markdown",
   "metadata": {},
   "source": [
    "Q8. Declare a variable named price and assign the value 9.99 to it. What data type does this variable\n",
    "belong to?"
   ]
  },
  {
   "cell_type": "code",
   "execution_count": 4,
   "metadata": {},
   "outputs": [
    {
     "name": "stdout",
     "output_type": "stream",
     "text": [
      "9.99\n",
      "<class 'float'>\n"
     ]
    }
   ],
   "source": [
    "price = float(9.99)\n",
    "print(price)\n",
    "print(type(price))\n"
   ]
  },
  {
   "cell_type": "markdown",
   "metadata": {},
   "source": [
    "Q9. Create a variable named name and assign your full name to it as a string. How would you print the\n",
    "value of this variable?"
   ]
  },
  {
   "cell_type": "code",
   "execution_count": 6,
   "metadata": {},
   "outputs": [
    {
     "name": "stdout",
     "output_type": "stream",
     "text": [
      "Harish Nandhan\n",
      "<class 'str'>\n"
     ]
    }
   ],
   "source": [
    "name = str(\"Harish Nandhan\")\n",
    "print(name)\n",
    "print(type(name))"
   ]
  },
  {
   "cell_type": "markdown",
   "metadata": {},
   "source": [
    "Q10. Given the string \"Hello, World!\", extract the substring \"World\"."
   ]
  },
  {
   "cell_type": "code",
   "execution_count": 7,
   "metadata": {},
   "outputs": [
    {
     "name": "stdout",
     "output_type": "stream",
     "text": [
      "World\n"
     ]
    }
   ],
   "source": [
    "string = \"Hello, World!\"\n",
    "print(string[7:12])\n",
    "\n",
    "\"\"\"\n",
    "We can extract the string by specifying the start index and the end index, \n",
    "separated by a colon.\n",
    "\"\"\""
   ]
  },
  {
   "cell_type": "markdown",
   "metadata": {},
   "source": [
    "Q11. Create a variable named \"is_student\" and assign it a boolean value indicating whether you are\n",
    "currently a student or not."
   ]
  },
  {
   "cell_type": "code",
   "execution_count": 19,
   "metadata": {},
   "outputs": [
    {
     "name": "stdout",
     "output_type": "stream",
     "text": [
      "True\n",
      "<class 'bool'>\n",
      "False\n",
      "<class 'bool'>\n"
     ]
    }
   ],
   "source": [
    "is_student = bool(\"Yes\")\n",
    "print(is_student)\n",
    "print(type(is_student))\n",
    "\n",
    "is_student = bool(0)\n",
    "print(is_student)\n",
    "print(type(is_student))\n",
    "\n",
    "\"\"\"\n",
    "Almost any value is evaluated to True if it has some sort of content.\n",
    "\n",
    "Any string is True, except empty strings.\n",
    "\n",
    "Any number is True, except 0.\n",
    "\n",
    "Any list, tuple, set, and dictionary are True, except empty ones.\n",
    "\"\"\""
   ]
  },
  {
   "cell_type": "code",
   "execution_count": null,
   "metadata": {},
   "outputs": [],
   "source": []
  }
 ],
 "metadata": {
  "kernelspec": {
   "display_name": "Python 3",
   "language": "python",
   "name": "python3"
  },
  "language_info": {
   "codemirror_mode": {
    "name": "ipython",
    "version": 3
   },
   "file_extension": ".py",
   "mimetype": "text/x-python",
   "name": "python",
   "nbconvert_exporter": "python",
   "pygments_lexer": "ipython3",
   "version": "3.11.4"
  }
 },
 "nbformat": 4,
 "nbformat_minor": 2
}
