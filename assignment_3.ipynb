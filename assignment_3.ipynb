{
 "cells": [
  {
   "cell_type": "markdown",
   "metadata": {},
   "source": [
    "## FUNCTIONS \n",
    "# Assignment Q1.\n",
    "\n",
    "-  Which keyword is used to create a function? Create a function to return a list of odd numbers in the \n",
    "range of 1 to 25."
   ]
  },
  {
   "cell_type": "code",
   "execution_count": 5,
   "metadata": {},
   "outputs": [],
   "source": [
    "# Def is a keyword which is used for creating a function. Then we need to create a function name, function which executes a certain repetitive block of code and we will give certain arguments on it.\n",
    "\n",
    "def odd_numbers(n):\n",
    "    l = []\n",
    "    for i in range(n):\n",
    "        if (i%2)!=0:\n",
    "            l.append(i)\n",
    "    \n",
    "    return l"
   ]
  },
  {
   "cell_type": "code",
   "execution_count": 6,
   "metadata": {},
   "outputs": [
    {
     "data": {
      "text/plain": [
       "[1, 3, 5, 7, 9, 11, 13, 15, 17, 19, 21, 23]"
      ]
     },
     "execution_count": 6,
     "metadata": {},
     "output_type": "execute_result"
    }
   ],
   "source": [
    "odd_numbers(25)"
   ]
  },
  {
   "cell_type": "markdown",
   "metadata": {},
   "source": [
    "# Assignment Q2.\n",
    "\n",
    "- Why *args and **kwargs is used in some functions? Create a function each for *args and **kwargs to \n",
    "demonstrate their use."
   ]
  },
  {
   "cell_type": "code",
   "execution_count": 7,
   "metadata": {},
   "outputs": [],
   "source": [
    "\"\"\"\n",
    "In python we can create a variable number of arguments by using two special keywords which are known as *args and **kwargs.\n",
    "When we are unsure about the number of arguments we can use these keywords.\n",
    "\n",
    "here\n",
    "\n",
    "- *args(Single Asterisk) which we can pass the arguments in the form of a tuple. [Non Keyword Arguments]\n",
    "- **kwargs which we can pass the arguments in the form of a dictionary. [Keyword Arguments]\n",
    "\n",
    "\"\"\"\n",
    "\n",
    "# A function for creating the consecutive string concatenation operation\n",
    "\n",
    "def string_concat(*args):\n",
    "    final_string = \"Hello!\"\n",
    "\n",
    "    for n in args:\n",
    "        final_string = final_string + n\n",
    "    return final_string\n"
   ]
  },
  {
   "cell_type": "code",
   "execution_count": 9,
   "metadata": {},
   "outputs": [
    {
     "data": {
      "text/plain": [
       "'Hello! World'"
      ]
     },
     "execution_count": 9,
     "metadata": {},
     "output_type": "execute_result"
    }
   ],
   "source": [
    "string_concat(\" World\")"
   ]
  },
  {
   "cell_type": "code",
   "execution_count": 10,
   "metadata": {},
   "outputs": [
    {
     "data": {
      "text/plain": [
       "'Hello! World This is Mad Max!'"
      ]
     },
     "execution_count": 10,
     "metadata": {},
     "output_type": "execute_result"
    }
   ],
   "source": [
    "string_concat(\" World\",\" This is Mad Max!\")"
   ]
  },
  {
   "cell_type": "code",
   "execution_count": 16,
   "metadata": {},
   "outputs": [
    {
     "name": "stdout",
     "output_type": "stream",
     "text": [
      "Sundar\n",
      "2020\n",
      "JCook\n"
     ]
    }
   ],
   "source": [
    "# A company Specification example of kwargs\n",
    "class company:\n",
    "    def __init__(self, **kwargs):\n",
    "        self.ceo = kwargs['c']\n",
    "        self.year = kwargs['y']\n",
    "\n",
    "google = company(c=\"Sundar\", y=2002)\n",
    "openai = company(c=\"Sam\", y=2020)\n",
    "apple = company(c=\"JCook\",y=2006)\n",
    "\n",
    "print(google.ceo)\n",
    "print(openai.year)\n",
    "print(apple.ceo)"
   ]
  },
  {
   "cell_type": "markdown",
   "metadata": {},
   "source": [
    "# Assignment Q3. \n",
    "\n",
    " What is an iterator in python? Name the method used to initialise the iterator object and the method \n",
    "used for iteration. Use these methods to print the first five elements of the given list [2, 4, 6, 8, 10, 12, 14, 16, \n",
    "18, 20]."
   ]
  },
  {
   "cell_type": "code",
   "execution_count": 20,
   "metadata": {},
   "outputs": [
    {
     "name": "stdout",
     "output_type": "stream",
     "text": [
      "google\n",
      "apple\n",
      "microsoft\n"
     ]
    }
   ],
   "source": [
    "\"\"\"\n",
    "Iterator is an object that contains counterable number of values.\n",
    "It can be iterated upon ie. It can traverse through all the values.\n",
    "\n",
    "It consists of two methods \n",
    " - __iter__()\n",
    " - __next__()\n",
    "\"\"\"\n",
    "\n",
    "mytuple = (\"google\",\"apple\",\"microsoft\")\n",
    "myit = iter(mytuple)\n",
    "\n",
    "print(next(myit))\n",
    "print(next(myit))\n",
    "print(next(myit))\n",
    "\n",
    "# next() method will return the next object in the sequence"
   ]
  },
  {
   "cell_type": "code",
   "execution_count": 23,
   "metadata": {},
   "outputs": [
    {
     "name": "stdout",
     "output_type": "stream",
     "text": [
      "2\n",
      "4\n",
      "6\n",
      "8\n",
      "10\n"
     ]
    }
   ],
   "source": [
    "mylist = [2, 4, 6, 8, 10, 12, 14, 16, 18, 20]\n",
    "myit = iter(mylist)\n",
    "\n",
    "for _ in range(5):\n",
    "    print(next(myit))"
   ]
  },
  {
   "cell_type": "markdown",
   "metadata": {},
   "source": [
    "## Generator\n",
    "\n",
    "# Assignment Q4.\n",
    "\n",
    "- What is a generator function in python? Why yield keyword is used? Give an example of a generator \n",
    "function."
   ]
  },
  {
   "cell_type": "code",
   "execution_count": 42,
   "metadata": {},
   "outputs": [],
   "source": [
    "\"\"\"\n",
    "Generator in python returns the iterator using the yield keyword which is used to produce a sequences of values when iterated over.\n",
    "\n",
    "\"\"\"\n",
    "\n",
    "def seq_of_n(n):\n",
    "    value = 0\n",
    "    while value < n:\n",
    "        yield value\n",
    "        value +=1"
   ]
  },
  {
   "cell_type": "code",
   "execution_count": 43,
   "metadata": {},
   "outputs": [
    {
     "name": "stdout",
     "output_type": "stream",
     "text": [
      "0\n",
      "1\n",
      "2\n",
      "3\n",
      "4\n"
     ]
    }
   ],
   "source": [
    "for i in seq_of_n(5):\n",
    "    print(i)"
   ]
  },
  {
   "cell_type": "markdown",
   "metadata": {},
   "source": [
    "# Assignment Q5.\n",
    "\n",
    "- Create a generator function for prime numbers less than 1000. Use the next() method to print the \n",
    "first 20 prime numbers"
   ]
  },
  {
   "cell_type": "code",
   "execution_count": 6,
   "metadata": {},
   "outputs": [],
   "source": [
    "# def seq_of_prime(n):\n",
    "#     while n\n",
    "\n",
    "def prime(a,b):\n",
    "    for i in range(a,b+1):\n",
    "        if i==1:\n",
    "            continue\n",
    "\n",
    "        flag = 1\n",
    "\n",
    "        for j in range(2,i//2+1):\n",
    "            if i%j==0:\n",
    "                flag = 0\n",
    "                break\n",
    "            else:\n",
    "                flag = 1\n",
    "     \n",
    "        if flag==1:\n",
    "            yield i\n",
    "\n"
   ]
  },
  {
   "cell_type": "code",
   "execution_count": 7,
   "metadata": {},
   "outputs": [
    {
     "name": "stdout",
     "output_type": "stream",
     "text": [
      "2\n",
      "3\n",
      "5\n",
      "7\n",
      "11\n",
      "13\n",
      "17\n",
      "19\n",
      "23\n",
      "29\n",
      "31\n",
      "37\n",
      "41\n",
      "43\n",
      "47\n",
      "53\n",
      "59\n",
      "61\n",
      "67\n",
      "71\n"
     ]
    }
   ],
   "source": [
    "prime = prime(1,1000)\n",
    "for _ in range(20):\n",
    "    print(next(prime))"
   ]
  },
  {
   "cell_type": "code",
   "execution_count": null,
   "metadata": {},
   "outputs": [],
   "source": [
    "\n",
    "\n",
    "\n",
    "\n",
    "\n",
    "\n",
    "\n",
    "\n",
    "\n",
    "\n",
    "\n",
    "\n",
    "\n",
    "\n",
    "\n",
    "\n",
    "\n",
    "\n",
    "\n",
    "\n",
    "\n",
    "\n",
    "\n",
    "\n",
    "\n",
    "\n",
    "\n",
    "\n",
    "\n",
    "\n"
   ]
  }
 ],
 "metadata": {
  "kernelspec": {
   "display_name": "base",
   "language": "python",
   "name": "python3"
  },
  "language_info": {
   "codemirror_mode": {
    "name": "ipython",
    "version": 3
   },
   "file_extension": ".py",
   "mimetype": "text/x-python",
   "name": "python",
   "nbconvert_exporter": "python",
   "pygments_lexer": "ipython3",
   "version": "3.11.5"
  }
 },
 "nbformat": 4,
 "nbformat_minor": 2
}
