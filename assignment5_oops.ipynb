{
 "cells": [
  {
   "cell_type": "markdown",
   "metadata": {},
   "source": [
    "### Q1. Explain Class and Object with respect to Object-Oriented Programming. Give a suitable example."
   ]
  },
  {
   "cell_type": "code",
   "execution_count": 1,
   "metadata": {},
   "outputs": [],
   "source": [
    "\"\"\"Class is a collection of objects.\n",
    "A class contains the blueprints or the prototype from which the objects are being created.\n",
    "Class is a logical entity that contains some attributes and methods.\n",
    "\n",
    "Object is an entity that has a state and behaviour associated with it.\n",
    "state -> attributes\n",
    "behaviour -> Methods\n",
    "identity -> each and every object has a unique name.\n",
    "\"\"\"\n",
    "\n",
    "class Car:\n",
    "    def __init__(self,name,speed):\n",
    "        self.name = name\n",
    "        self.speed = speed\n",
    "    \n",
    "    def description(self,model):\n",
    "        return f\"The speed of {self.name} car is {self.speed}km/hr. This car comes under the model {model}.\" \n"
   ]
  },
  {
   "cell_type": "code",
   "execution_count": 2,
   "metadata": {},
   "outputs": [],
   "source": [
    "obj1 = Car(\"MGHector\",150)"
   ]
  },
  {
   "cell_type": "code",
   "execution_count": 3,
   "metadata": {},
   "outputs": [
    {
     "name": "stdout",
     "output_type": "stream",
     "text": [
      "The speed of MGHector car is 150km/hr. This car comes under the model MG LEERA.\n"
     ]
    }
   ],
   "source": [
    "print(obj1.description(\"MG LEERA\"))"
   ]
  },
  {
   "cell_type": "markdown",
   "metadata": {},
   "source": [
    "### Q2. Four Pillars of OOPS."
   ]
  },
  {
   "cell_type": "markdown",
   "metadata": {},
   "source": [
    "- Polymorphism\n",
    "- Inheritance\n",
    "- Abstraction\n",
    "- Encapsulation"
   ]
  },
  {
   "cell_type": "markdown",
   "metadata": {},
   "source": [
    "### Q3. Explain why the __init__() function is used. Give a suitable example.\n"
   ]
  },
  {
   "cell_type": "code",
   "execution_count": 4,
   "metadata": {},
   "outputs": [],
   "source": [
    "\"\"\"\n",
    " CLASS CONSTRUCTOR:\n",
    "\n",
    " The main job of the class constructor is to assign values to the data members of the class when an object of the class is created.\n",
    " The properties of the object must be inside the __init__() method which is also known as the constructor method.\n",
    "The first parameter of this method is to be self, then only the rest of the parameter comes.\n",
    "\n",
    "\n",
    "\"\"\"\n",
    "\n",
    "class Car:\n",
    "    # Constructor __init__() method.\n",
    "    def __init__(self,name,speed):\n",
    "        self.name = name    # instance attribute\n",
    "        self.speed = speed  # instance attribute\n",
    "    \n",
    "    def description(self,model):\n",
    "        return f\"The speed of {self.name} car is {self.speed}km/hr. This car comes under the model {model}.\" \n"
   ]
  },
  {
   "cell_type": "markdown",
   "metadata": {},
   "source": [
    "### Q4. Why self is used in OOPs?"
   ]
  },
  {
   "cell_type": "code",
   "execution_count": 1,
   "metadata": {},
   "outputs": [],
   "source": [
    "\"\"\"\n",
    "The self keyword represents the instance of the class ie) it will create a reference for all other parameters that are going to get created.\n",
    "By using the self keyword we can able to access the attributes and methods of that particular class.\n",
    "It is useful in method definitions and variable initialization.\n",
    "\"\"\"\n",
    "class Car:\n",
    "    # Constructor __init__() method.\n",
    "    def __init__(self,name,speed):\n",
    "        self.name = name    # instance attribute\n",
    "        self.speed = speed  # instance attribute\n",
    "    \n",
    "    def description(self,model):\n",
    "        return f\"The speed of {self.name} car is {self.speed}km/hr. This car comes under the model {model}.\" \n",
    "\n",
    "# Here the self keyword is used as a reference for creation of name, speed and it is also used to initialize variables name and speed with certain values which will be passed during the object creation. \n"
   ]
  },
  {
   "cell_type": "markdown",
   "metadata": {},
   "source": [
    "### Q5. What is inheritance? Give an example for each type of inheritance."
   ]
  },
  {
   "cell_type": "markdown",
   "metadata": {},
   "source": [
    "- Inheritance is the capability of one class to inherit the property of another class.\n",
    "- The class which inherits properties is called as the child class or derived class.\n",
    "- The class from which the properties are inherited is called as the parent class or the base class.\n",
    "- Two types of inheritance: \n",
    "- 1)Multilevel Inheritance\n",
    "- 2)Multiple Inheritance\n"
   ]
  },
  {
   "cell_type": "code",
   "execution_count": 10,
   "metadata": {},
   "outputs": [],
   "source": [
    "# Example for Multilevel Inheritance\n",
    "\n",
    "class grandfather():\n",
    "    def __init__(self,g_property_value):\n",
    "        self.g_property_value = g_property_value\n",
    "\n",
    "class father(grandfather): \n",
    "    def __init__(self,g_property_value,f_property_value):\n",
    "        self.f_property_value = f_property_value\n",
    "\n",
    "        grandfather.__init__(self,g_property_value)\n",
    "class myself(father):\n",
    "    def __init__(self,g_property_value,f_property_value,my_value):\n",
    "        self.my_value = my_value\n",
    "        father.__init__(self,g_property_value,f_property_value)\n",
    "    def current_holdings(self):\n",
    "        self.my_value = self.my_value + self.g_property_value + self.f_property_value\n",
    "        print(\"My current holdings is:{}\".format(self.my_value)) \n",
    "\n",
    "\n",
    "a = myself(1000,5000,3000)"
   ]
  },
  {
   "cell_type": "code",
   "execution_count": 11,
   "metadata": {},
   "outputs": [
    {
     "name": "stdout",
     "output_type": "stream",
     "text": [
      "My current holdings is:9000\n"
     ]
    }
   ],
   "source": [
    "a.current_holdings()"
   ]
  },
  {
   "cell_type": "code",
   "execution_count": 12,
   "metadata": {},
   "outputs": [],
   "source": [
    "# Example for Multiple Inheritance\n",
    "\n",
    "class father():\n",
    "    def __init__(self,f_property_value):\n",
    "        self.f_property_value = f_property_value\n",
    "\n",
    "class mother(): \n",
    "    def __init__(self,m_property_value,):\n",
    "        self.m_property_value = m_property_value\n",
    "\n",
    "class myself(father,mother):\n",
    "    def __init__(self,f_property_value,m_property_value,my_value):\n",
    "        self.my_value = my_value\n",
    "        father.__init__(self,f_property_value)\n",
    "        mother.__init__(self,m_property_value)\n",
    "    def current_holdings(self):\n",
    "        self.my_value = self.my_value + self.f_property_value + self.m_property_value\n",
    "        print(\"My current holdings is:{}\".format(self.my_value)) \n",
    "\n"
   ]
  },
  {
   "cell_type": "code",
   "execution_count": 13,
   "metadata": {},
   "outputs": [],
   "source": [
    "a = myself(10000,10000,5000)"
   ]
  },
  {
   "cell_type": "code",
   "execution_count": 14,
   "metadata": {},
   "outputs": [
    {
     "name": "stdout",
     "output_type": "stream",
     "text": [
      "My current holdings is:25000\n"
     ]
    }
   ],
   "source": [
    "a.current_holdings()"
   ]
  },
  {
   "cell_type": "code",
   "execution_count": null,
   "metadata": {},
   "outputs": [],
   "source": []
  }
 ],
 "metadata": {
  "kernelspec": {
   "display_name": "base",
   "language": "python",
   "name": "python3"
  },
  "language_info": {
   "codemirror_mode": {
    "name": "ipython",
    "version": 3
   },
   "file_extension": ".py",
   "mimetype": "text/x-python",
   "name": "python",
   "nbconvert_exporter": "python",
   "pygments_lexer": "ipython3",
   "version": "3.11.8"
  }
 },
 "nbformat": 4,
 "nbformat_minor": 2
}
