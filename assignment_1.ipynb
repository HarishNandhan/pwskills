{
 "cells": [
  {
   "cell_type": "raw",
   "id": "888f630f",
   "metadata": {},
   "source": [
    "Q1. Create one variable containing following type of data:\n",
    "(i) string\n",
    "(ii) list\n",
    "(iii) float\n",
    "(iv) tuple"
   ]
  },
  {
   "cell_type": "code",
   "execution_count": 14,
   "id": "bba5b8d1",
   "metadata": {},
   "outputs": [],
   "source": [
    "s = \"harish\"\n",
    "l = [1,2,3,4,\"Harish\"]\n",
    "f = 4.54\n",
    "t = (1,2,3,4)"
   ]
  },
  {
   "cell_type": "raw",
   "id": "e0507321",
   "metadata": {},
   "source": [
    "Q2. Given are some following variables containing data:\n",
    "(i) var1 = ‘ ‘\n",
    "(ii) var2 = ‘[ DS , ML , Python]’\n",
    "(iii) var3 = [ ‘DS’ , ’ML’ , ‘Python’ ]\n",
    "(iv) var4 = 1.\n",
    "What will be the data type of the above given variable."
   ]
  },
  {
   "cell_type": "code",
   "execution_count": 15,
   "id": "a46c3289",
   "metadata": {},
   "outputs": [
    {
     "data": {
      "text/plain": [
       "str"
      ]
     },
     "execution_count": 15,
     "metadata": {},
     "output_type": "execute_result"
    }
   ],
   "source": [
    "var1 = ' ' \n",
    "type(var1)"
   ]
  },
  {
   "cell_type": "code",
   "execution_count": 16,
   "id": "50725f55",
   "metadata": {},
   "outputs": [
    {
     "data": {
      "text/plain": [
       "str"
      ]
     },
     "execution_count": 16,
     "metadata": {},
     "output_type": "execute_result"
    }
   ],
   "source": [
    "var2 = '[ DS , ML , Python]'\n",
    "type(var2)"
   ]
  },
  {
   "cell_type": "code",
   "execution_count": 17,
   "id": "225f34ed",
   "metadata": {},
   "outputs": [
    {
     "data": {
      "text/plain": [
       "list"
      ]
     },
     "execution_count": 17,
     "metadata": {},
     "output_type": "execute_result"
    }
   ],
   "source": [
    "var3 = ['DS','ML','Python']\n",
    "type(var3)\n"
   ]
  },
  {
   "cell_type": "code",
   "execution_count": 18,
   "id": "3abbddcf",
   "metadata": {},
   "outputs": [
    {
     "data": {
      "text/plain": [
       "float"
      ]
     },
     "execution_count": 18,
     "metadata": {},
     "output_type": "execute_result"
    }
   ],
   "source": [
    "var4 = 1.\n",
    "type(var4)"
   ]
  },
  {
   "cell_type": "raw",
   "id": "0b047cea",
   "metadata": {},
   "source": [
    "Q3. Explain the use of the following operators using an example:\n",
    "(i) /\n",
    "(ii) %\n",
    "(iii) //\n",
    "(iv) **"
   ]
  },
  {
   "cell_type": "code",
   "execution_count": 19,
   "id": "db118aac",
   "metadata": {},
   "outputs": [],
   "source": [
    "# / - Division operator gives the quotient\n",
    "a = 10 / 5\n",
    "# % - Modulus operator gives the remainder\n",
    "b = 10 % 5\n",
    "# // - Floor division operator is used to give the division value in integer format\n",
    "c = 11 // 5 \n",
    "# ** - power operator is used to give the (x)**y value\n",
    "d = 2**4"
   ]
  },
  {
   "cell_type": "code",
   "execution_count": 20,
   "id": "8e5d34f4",
   "metadata": {},
   "outputs": [
    {
     "data": {
      "text/plain": [
       "16"
      ]
     },
     "execution_count": 20,
     "metadata": {},
     "output_type": "execute_result"
    }
   ],
   "source": [
    "d"
   ]
  },
  {
   "cell_type": "code",
   "execution_count": 21,
   "id": "747f16a4",
   "metadata": {},
   "outputs": [
    {
     "data": {
      "text/plain": [
       "2.0"
      ]
     },
     "execution_count": 21,
     "metadata": {},
     "output_type": "execute_result"
    }
   ],
   "source": [
    "a"
   ]
  },
  {
   "cell_type": "code",
   "execution_count": 22,
   "id": "662425fb",
   "metadata": {},
   "outputs": [
    {
     "data": {
      "text/plain": [
       "0"
      ]
     },
     "execution_count": 22,
     "metadata": {},
     "output_type": "execute_result"
    }
   ],
   "source": [
    "b"
   ]
  },
  {
   "cell_type": "code",
   "execution_count": 23,
   "id": "b950387f",
   "metadata": {},
   "outputs": [
    {
     "data": {
      "text/plain": [
       "2"
      ]
     },
     "execution_count": 23,
     "metadata": {},
     "output_type": "execute_result"
    }
   ],
   "source": [
    "c"
   ]
  },
  {
   "cell_type": "markdown",
   "id": "b25d2f6f",
   "metadata": {},
   "source": [
    "Create a list containing 25 int type data. Using for loop and if-else condition print if the element is\n",
    "divisible by 3 or not."
   ]
  },
  {
   "cell_type": "code",
   "execution_count": 24,
   "id": "545b1cc8",
   "metadata": {},
   "outputs": [
    {
     "name": "stdout",
     "output_type": "stream",
     "text": [
      "12 is divisible by 3\n",
      "9 is divisible by 3\n",
      "7 is not divisible by 3\n",
      "18 is divisible by 3\n",
      "21 is divisible by 3\n",
      "14 is not divisible by 3\n",
      "27 is divisible by 3\n",
      "5 is not divisible by 3\n",
      "30 is divisible by 3\n",
      "8 is not divisible by 3\n",
      "17 is not divisible by 3\n",
      "22 is not divisible by 3\n",
      "11 is not divisible by 3\n",
      "33 is divisible by 3\n",
      "16 is not divisible by 3\n",
      "24 is divisible by 3\n",
      "6 is divisible by 3\n",
      "19 is not divisible by 3\n",
      "15 is divisible by 3\n",
      "3 is divisible by 3\n",
      "20 is not divisible by 3\n",
      "10 is not divisible by 3\n",
      "13 is not divisible by 3\n",
      "25 is not divisible by 3\n",
      "4 is not divisible by 3\n"
     ]
    }
   ],
   "source": [
    "\n",
    "numbers = [12, 9, 7, 18, 21, 14, 27, 5, 30, 8, 17, 22, 11, 33, 16, 24, 6, 19, 15, 3, 20, 10, 13, 25, 4]\n",
    "\n",
    "\n",
    "for num in numbers:\n",
    "    \n",
    "    if num % 3 == 0:\n",
    "        print(num, \"is divisible by 3\")\n",
    "    else:\n",
    "        print(num, \"is not divisible by 3\")\n"
   ]
  },
  {
   "cell_type": "raw",
   "id": "dc2d7c55",
   "metadata": {},
   "source": [
    "Create a list of length 10 of your choice containing multiple types of data. Using for loop print the\n",
    "element and its data type."
   ]
  },
  {
   "cell_type": "code",
   "execution_count": 25,
   "id": "5135cc87",
   "metadata": {},
   "outputs": [
    {
     "name": "stdout",
     "output_type": "stream",
     "text": [
      "10 is of type <class 'int'>\n",
      "Hello is of type <class 'str'>\n",
      "3.14 is of type <class 'float'>\n",
      "True is of type <class 'bool'>\n",
      "[1, 2, 3] is of type <class 'list'>\n",
      "{'name': 'John', 'age': 25} is of type <class 'dict'>\n",
      "None is of type <class 'NoneType'>\n",
      "(1, 2, 3) is of type <class 'tuple'>\n",
      "(5+2j) is of type <class 'complex'>\n",
      "False is of type <class 'bool'>\n"
     ]
    }
   ],
   "source": [
    "\n",
    "x = [10, \"Hello\", 3.14, True, [1, 2, 3], {\"name\": \"John\", \"age\": 25}, None, (1, 2, 3), 5 + 2j, False]\n",
    "\n",
    "for ele in x:\n",
    "    print(ele, \"is of type\", type(ele))\n"
   ]
  },
  {
   "cell_type": "code",
   "execution_count": null,
   "id": "d32b8f3f",
   "metadata": {},
   "outputs": [],
   "source": [
    "Using a while loop, verify if the number A is purely divisible by number B and if so then how many\n",
    "times it can be divisible."
   ]
  },
  {
   "cell_type": "code",
   "execution_count": 26,
   "id": "959fa245",
   "metadata": {},
   "outputs": [
    {
     "name": "stdout",
     "output_type": "stream",
     "text": [
      "a value : 10\n",
      "b value: 5\n",
      "A is divisible by B\n",
      "A can be divided by B 1 times\n"
     ]
    }
   ],
   "source": [
    "\n",
    "a = int(input(\"a value : \"))\n",
    "b = int(input(\"b value: \"))\n",
    "\n",
    "\n",
    "count = 0\n",
    "\n",
    "while a % b == 0:\n",
    "    a = a / b  \n",
    "    count += 1  \n",
    "if count > 0:\n",
    "    print(\"A is divisible by B\")\n",
    "    print(\"A can be divided by B\", count, \"times\")\n",
    "else:\n",
    "    print(\"A is not divisible by B\")\n"
   ]
  },
  {
   "cell_type": "raw",
   "id": "590e074f",
   "metadata": {},
   "source": [
    "What do you understand about mutable and immutable data types? Give examples for both showing\n",
    "this property."
   ]
  },
  {
   "cell_type": "raw",
   "id": "2bf7a57d",
   "metadata": {},
   "source": [
    "Mutable means the value inside the item can be replaced after creation. But in immutable we cannot replace the created item.\n",
    "eg : \n",
    "Lists are mutable\n",
    "Tuples are immutable.\n"
   ]
  },
  {
   "cell_type": "code",
   "execution_count": 27,
   "id": "40f24dbd",
   "metadata": {},
   "outputs": [],
   "source": [
    "#List mutable\n",
    "\n",
    "a = [10,4,32,5]\n",
    "a[3] = 4\n"
   ]
  },
  {
   "cell_type": "code",
   "execution_count": 28,
   "id": "8b69ab76",
   "metadata": {},
   "outputs": [
    {
     "data": {
      "text/plain": [
       "[10, 4, 32, 4]"
      ]
     },
     "execution_count": 28,
     "metadata": {},
     "output_type": "execute_result"
    }
   ],
   "source": [
    "a"
   ]
  },
  {
   "cell_type": "code",
   "execution_count": 29,
   "id": "d5b81209",
   "metadata": {},
   "outputs": [
    {
     "ename": "TypeError",
     "evalue": "'tuple' object does not support item assignment",
     "output_type": "error",
     "traceback": [
      "\u001b[1;31m---------------------------------------------------------------------------\u001b[0m",
      "\u001b[1;31mTypeError\u001b[0m                                 Traceback (most recent call last)",
      "\u001b[1;32m~\\AppData\\Local\\Temp\\ipykernel_10676\\3351831283.py\u001b[0m in \u001b[0;36m<module>\u001b[1;34m\u001b[0m\n\u001b[0;32m      2\u001b[0m \u001b[1;33m\u001b[0m\u001b[0m\n\u001b[0;32m      3\u001b[0m \u001b[0ma\u001b[0m \u001b[1;33m=\u001b[0m \u001b[1;33m(\u001b[0m\u001b[1;36m10\u001b[0m\u001b[1;33m,\u001b[0m\u001b[1;36m4\u001b[0m\u001b[1;33m,\u001b[0m\u001b[1;36m32\u001b[0m\u001b[1;33m,\u001b[0m\u001b[1;36m5\u001b[0m\u001b[1;33m)\u001b[0m\u001b[1;33m\u001b[0m\u001b[1;33m\u001b[0m\u001b[0m\n\u001b[1;32m----> 4\u001b[1;33m \u001b[0ma\u001b[0m\u001b[1;33m[\u001b[0m\u001b[1;36m3\u001b[0m\u001b[1;33m]\u001b[0m \u001b[1;33m=\u001b[0m \u001b[1;36m4\u001b[0m\u001b[1;33m\u001b[0m\u001b[1;33m\u001b[0m\u001b[0m\n\u001b[0m",
      "\u001b[1;31mTypeError\u001b[0m: 'tuple' object does not support item assignment"
     ]
    }
   ],
   "source": [
    "# Tuple - immutable\n",
    "\n",
    "a = (10,4,32,5)\n",
    "a[3] = 4"
   ]
  },
  {
   "cell_type": "code",
   "execution_count": null,
   "id": "ef6b623e",
   "metadata": {},
   "outputs": [],
   "source": []
  }
 ],
 "metadata": {
  "kernelspec": {
   "display_name": "Python 3 (ipykernel)",
   "language": "python",
   "name": "python3"
  },
  "language_info": {
   "codemirror_mode": {
    "name": "ipython",
    "version": 3
   },
   "file_extension": ".py",
   "mimetype": "text/x-python",
   "name": "python",
   "nbconvert_exporter": "python",
   "pygments_lexer": "ipython3",
   "version": "3.9.13"
  }
 },
 "nbformat": 4,
 "nbformat_minor": 5
}
