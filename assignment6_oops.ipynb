{
 "cells": [
  {
   "cell_type": "markdown",
   "metadata": {},
   "source": [
    "### Q1, Create a vehicle class with an init method having instance variables as name_of_vehicle, max_speed and average_of_vehicle."
   ]
  },
  {
   "cell_type": "code",
   "execution_count": 6,
   "metadata": {},
   "outputs": [],
   "source": [
    "class vehicle:\n",
    "    def __init__(self,name,max_speed,avg_of_vehicle):\n",
    "        self.name_of_vehicle = name\n",
    "        self.max_speed = max_speed\n",
    "        self.avg_of_vehicle = avg_of_vehicle\n",
    "\n",
    "    def vehicle_details(self):\n",
    "        return f\"{self.name_of_vehicle}'s maximum speed is {self.max_speed}km/hr and an average speed of {self.avg_of_vehicle}km/hr.\"\n",
    "\n"
   ]
  },
  {
   "cell_type": "code",
   "execution_count": 7,
   "metadata": {},
   "outputs": [],
   "source": [
    "obj1 = vehicle(\"Ertiga\",160,90)"
   ]
  },
  {
   "cell_type": "code",
   "execution_count": 9,
   "metadata": {},
   "outputs": [
    {
     "data": {
      "text/plain": [
       "\"Ertiga's maximum speed is 160km/hr and an average speed of 90km/hr.\""
      ]
     },
     "execution_count": 9,
     "metadata": {},
     "output_type": "execute_result"
    }
   ],
   "source": [
    "obj1.vehicle_details()"
   ]
  },
  {
   "cell_type": "markdown",
   "metadata": {},
   "source": [
    "### Q2. Create a child class car from the vehicle class created in Que 1, which will inherit the vehicle class. Create a method named seating_capacity which takes capacity as an argument and returns the name of the vehicle and its seating capacity."
   ]
  },
  {
   "cell_type": "code",
   "execution_count": 36,
   "metadata": {},
   "outputs": [],
   "source": [
    "class car(vehicle):\n",
    "    def __init__(self,name_of_vehicle,max_speed,avg_of_vehicle):\n",
    "        vehicle.__init__(self,name_of_vehicle,max_speed,avg_of_vehicle)\n",
    "    def seating_capacity(self,capacity):\n",
    "        return f\"{self.name_of_vehicle} is a {capacity} seater and its's maximum speed is {self.max_speed}km/hr and an average speed of {self.avg_of_vehicle}km/hr.\""
   ]
  },
  {
   "cell_type": "code",
   "execution_count": 37,
   "metadata": {},
   "outputs": [],
   "source": [
    "obj2 = car(\"Innova\",170,100)"
   ]
  },
  {
   "cell_type": "code",
   "execution_count": 38,
   "metadata": {},
   "outputs": [
    {
     "data": {
      "text/plain": [
       "\"Innova is a 7 seater and its's maximum speed is 170km/hr and an average speed of 100km/hr.\""
      ]
     },
     "execution_count": 38,
     "metadata": {},
     "output_type": "execute_result"
    }
   ],
   "source": [
    "obj2.seating_capacity(7)"
   ]
  },
  {
   "cell_type": "markdown",
   "metadata": {},
   "source": [
    "### Q3. What is multiple inheritance? Write a python code to demonstrate multiple inheritance."
   ]
  },
  {
   "cell_type": "markdown",
   "metadata": {},
   "source": [
    "- In multiple inheritance, an object or class can inherit characteristics or features from more than one parent object or the parent class."
   ]
  },
  {
   "cell_type": "code",
   "execution_count": 39,
   "metadata": {},
   "outputs": [],
   "source": [
    "class father():\n",
    "    def __init__(self,f_property_value):\n",
    "        self.f_property_value = f_property_value\n",
    "\n",
    "class mother(): \n",
    "    def __init__(self,m_property_value,):\n",
    "        self.m_property_value = m_property_value\n",
    "\n",
    "class myself(father,mother):\n",
    "    def __init__(self,f_property_value,m_property_value,my_value):\n",
    "        self.my_value = my_value\n",
    "        father.__init__(self,f_property_value)\n",
    "        mother.__init__(self,m_property_value)\n",
    "    def current_holdings(self):\n",
    "        self.my_value = self.my_value + self.f_property_value + self.m_property_value\n",
    "        print(\"My current holdings is:{}\".format(self.my_value)) "
   ]
  },
  {
   "cell_type": "code",
   "execution_count": 40,
   "metadata": {},
   "outputs": [],
   "source": [
    "a = myself(10000,10000,5000)"
   ]
  },
  {
   "cell_type": "code",
   "execution_count": 41,
   "metadata": {},
   "outputs": [
    {
     "name": "stdout",
     "output_type": "stream",
     "text": [
      "My current holdings is:25000\n"
     ]
    }
   ],
   "source": [
    "a.current_holdings()"
   ]
  },
  {
   "cell_type": "markdown",
   "metadata": {},
   "source": [
    "### Q4. What are getter and setter in python? Create a class and create a getter and a setter method in this class."
   ]
  },
  {
   "cell_type": "code",
   "execution_count": 49,
   "metadata": {},
   "outputs": [],
   "source": [
    "\"\"\"\"\n",
    "The main purpose of getters and setters in oops is to ensure data encapsulation.\n",
    "- We use getters and setters to add validation logic around getting and setting a value.\n",
    "- To avoid direct access of a class field ie.Private variables cannot be accessed directly or modified by external user.  \n",
    "\n",
    "\"\"\"\n",
    "class admin:\n",
    "    # Here the admin has the only access to the details of the students such as the attendance and marks\n",
    "    def __init__(self, attendance, marks):\n",
    "        self.__attendance = attendance\n",
    "        self.__marks = marks\n",
    "\n",
    "    @property\n",
    "    # getter - The admin gave the access to get the attendance and marks for both the teachers and students.\n",
    "    def student_details_access(self):\n",
    "        return self.__attendance, self.__marks\n",
    "\n",
    "    @student_details_access.setter\n",
    "    # setter - The admin gave the access to the teachers to modify the attendance of the students if the student took a medical leave and provided a valid medical certificate and teachers are the only one who can change the marks if there was any total or correction mistake.\n",
    "    def student_details_set(self,values):\n",
    "        self.__attendance, self.__marks = values\n",
    "        \n",
    "\n",
    "\n"
   ]
  },
  {
   "cell_type": "code",
   "execution_count": 51,
   "metadata": {},
   "outputs": [
    {
     "name": "stdout",
     "output_type": "stream",
     "text": [
      "Updated Attendance: 75\n",
      "Updated Marks: 65\n"
     ]
    }
   ],
   "source": [
    "\n",
    "ad = admin(attendance= 56, marks = 62)\n",
    "ad.student_details_set = 75, 65\n",
    "attendance, marks = ad.student_details_access\n",
    "print(\"Updated Attendance:\", attendance)\n",
    "print(\"Updated Marks:\", marks)\n"
   ]
  },
  {
   "cell_type": "markdown",
   "metadata": {},
   "source": [
    "### Q5.What is method overriding in python? Write a python code to demonstrate method overriding."
   ]
  },
  {
   "cell_type": "code",
   "execution_count": 52,
   "metadata": {},
   "outputs": [],
   "source": [
    "\"\"\"\n",
    "Any object-oriented programming language can allow a subclass or child class to offer a customized implementation of a method already supplied by one of its superclasses or parent classes. \n",
    "This capability is known as method overriding. \n",
    "The term \"override\" refers to a method in a subclass that replaces a method in a superclass when both methods share the same name, parameters, signature, and return type (or sub-type).\n",
    "- The same method name is used in two different class but used for different purposes.\n",
    "\"\"\"\n",
    "\n",
    "class Parent:\n",
    "    def __init__(self):\n",
    "        self.value = \"Inside Parent class\"\n",
    "    def show(self):\n",
    "        print(self.value)\n",
    "\n",
    "class Child(Parent):\n",
    "    def __init__(self):\n",
    "        self.value = \"Inside Child class\"\n",
    "    def show(self):\n",
    "        print(self.value)    \n"
   ]
  },
  {
   "cell_type": "code",
   "execution_count": 53,
   "metadata": {},
   "outputs": [],
   "source": [
    "obj1 = Parent()\n",
    "obj2 = Child()"
   ]
  },
  {
   "cell_type": "code",
   "execution_count": 54,
   "metadata": {},
   "outputs": [
    {
     "name": "stdout",
     "output_type": "stream",
     "text": [
      "Inside Parent class\n"
     ]
    }
   ],
   "source": [
    "obj1.show()"
   ]
  },
  {
   "cell_type": "code",
   "execution_count": 55,
   "metadata": {},
   "outputs": [
    {
     "name": "stdout",
     "output_type": "stream",
     "text": [
      "Inside Child class\n"
     ]
    }
   ],
   "source": [
    "obj2.show()"
   ]
  },
  {
   "cell_type": "code",
   "execution_count": null,
   "metadata": {},
   "outputs": [],
   "source": []
  }
 ],
 "metadata": {
  "kernelspec": {
   "display_name": "base",
   "language": "python",
   "name": "python3"
  },
  "language_info": {
   "codemirror_mode": {
    "name": "ipython",
    "version": 3
   },
   "file_extension": ".py",
   "mimetype": "text/x-python",
   "name": "python",
   "nbconvert_exporter": "python",
   "pygments_lexer": "ipython3",
   "version": "3.11.8"
  }
 },
 "nbformat": 4,
 "nbformat_minor": 2
}
