{
 "cells": [
  {
   "cell_type": "code",
   "execution_count": 2,
   "metadata": {},
   "outputs": [],
   "source": [
    "import mysql.connector"
   ]
  },
  {
   "cell_type": "code",
   "execution_count": 13,
   "metadata": {},
   "outputs": [
    {
     "name": "stdout",
     "output_type": "stream",
     "text": [
      "<mysql.connector.connection_cext.CMySQLConnection object at 0x7f4d91d37ac0>\n"
     ]
    }
   ],
   "source": [
    "mydb = mysql.connector.connect(\n",
    "  host=\"localhost\",\n",
    "  user=\"abc\",\n",
    "  password=\"password\"\n",
    ")\n",
    "print(mydb)"
   ]
  },
  {
   "cell_type": "markdown",
   "metadata": {},
   "source": [
    "# 1. What is a database? Differentiate between SQL and NoSQL databases."
   ]
  },
  {
   "cell_type": "markdown",
   "metadata": {},
   "source": [
    "A database is an organized collection of structured information, or data, typically stored electronically in a computer system. A database is usually controlled by a database management system(DBMS). Together, the data and the DBMS along with the applications that are associated with them, are referred to as a database system, often shortened to just database.\n",
    "\n",
    "# SQL\n",
    "    - Relational Database Management System (RDBMS)\n",
    "    - These databases have a fixed or static or predefined schema.\n",
    "    - These databases are not suited for hierarchical data storage.\n",
    "    - These databases are best suited for complex queries.\n",
    "    - Vertically scalable.\n",
    "    - Follows ACID Property.\n",
    "    - Example: MySQL, PostgreSQL, Oracle, MS-SQL Server etc..\n",
    "\n",
    "# NoSQL\n",
    "    - Non relational or distributed database system\n",
    "    - They have a dynamic schema\n",
    "    - These databases are best suited for hierarchical data storage.\n",
    "    - These databases are not so good for complex queries.\n",
    "    - Horizontally scalable.\n",
    "    - Follows CAP(Consistency,Availability,Partition Tolerance)\n",
    "    - Example: MongoDB, HBase, Neo4j, Cassandra etc..\n",
    "\n"
   ]
  },
  {
   "cell_type": "markdown",
   "metadata": {},
   "source": [
    "# 2. What is DDL? Explain why CREATE, DROP, ALTER, and TRUNCATE are used with an example."
   ]
  },
  {
   "cell_type": "markdown",
   "metadata": {},
   "source": [
    "DDL is an abbreviation of **Data Definition Language**\n",
    "\n",
    "The DDL Commands in SQL are used to create and modify the schema of the database and its objects. \n",
    "The syntax of the DDL commands is predefined for describing the data.\n",
    "The commands of Data Definition language deal with how the data should exist in the database."
   ]
  },
  {
   "cell_type": "code",
   "execution_count": null,
   "metadata": {},
   "outputs": [],
   "source": [
    "# Create Command\n",
    "\"\"\"\n",
    "Create is a DDL Command used to create databases, tables, triggers and other database objects.\n",
    "\"\"\"\n",
    "mycursor = mydb.cursor()\n",
    "mycursor.execute(\"CREATE DATABASE if not exists college\")\n",
    "mycursor.execute(\"CREATE TABLE if not exists college.csedept1 (os INT, dbms VARCHAR(50), ai INT, ml FLOAT, dl VARCHAR(40))\")\n",
    "mydb.close() \n"
   ]
  },
  {
   "cell_type": "code",
   "execution_count": null,
   "metadata": {},
   "outputs": [],
   "source": [
    "# Alter Command\n",
    "\"\"\"\n",
    "Alter is a DDL Command which changes or modifies the existing structure of the database and it also changes the schema of database objects.\n",
    "\"\"\"\n",
    "mycursor = mydb.cursor()\n",
    "mycursor.execute(\"ALTER TABLE college.csedept1 ADD dsa VARCHAR(50)\")\n",
    "mycursor.execute(\"ALTER TABLE college.csedept1 DROP COLUMN ml, DROP COLUMN dl\")\n",
    "mycursor.execute(\"ALTER TABLE college.csedept1 MODIFY ai VARCHAR(50)\")"
   ]
  },
  {
   "cell_type": "code",
   "execution_count": 13,
   "metadata": {},
   "outputs": [],
   "source": [
    "# Rename Command\n",
    "# Rename is a DDL command which is used for renaming the existing table.\n",
    "mycursor = mydb.cursor()\n",
    "mycursor.execute(\"RENAME TABLE college.csedept1 to college.csedepartment\")"
   ]
  },
  {
   "cell_type": "code",
   "execution_count": 19,
   "metadata": {},
   "outputs": [],
   "source": [
    "# Truncate Command\n",
    "# Truncate is a DDL command which deletes or removes all the records from the table. The command also removes the space allocated for storing the table records.\n",
    "\n",
    "mycursor = mydb.cursor()\n",
    "mycursor.execute(\"TRUNCATE TABLE college.csedepartment\")"
   ]
  },
  {
   "cell_type": "code",
   "execution_count": 22,
   "metadata": {},
   "outputs": [],
   "source": [
    "# Drop Command\n",
    "\"\"\"\n",
    "Drop is a DDL command used to delete/remove the database objects from the SQL database. \n",
    "We can easily remove the entire table, view oe index from the database using this command.\n",
    "\"\"\"\n",
    "mycursor = mydb.cursor()\n",
    "mycursor.execute(\"DROP TABLE college.csedepartment\")\n",
    "mycursor.execute(\"DROP DATABASE college\")"
   ]
  },
  {
   "cell_type": "markdown",
   "metadata": {},
   "source": [
    "# 3. What is DML? Explain INSERT, UPDATE, and DELETE with an example."
   ]
  },
  {
   "cell_type": "markdown",
   "metadata": {},
   "source": [
    "DML is an abbreviation of **Data Manipulation Language**\n",
    "\n",
    "The DML commands in SQL change the data present in the SQL database. We can easily access, store, modify, update and delete the existing records from the database using DML commands."
   ]
  },
  {
   "cell_type": "code",
   "execution_count": 4,
   "metadata": {},
   "outputs": [],
   "source": [
    "mycursor = mydb.cursor()\n",
    "mycursor.execute(\"CREATE DATABASE if not exists classroom\")\n",
    "mycursor.execute(\"CREATE TABLE if not exists classroom.student (rollno INT, mailid VARCHAR(50), phoneno INT, Name VARCHAR(50))\")"
   ]
  },
  {
   "cell_type": "code",
   "execution_count": 5,
   "metadata": {},
   "outputs": [],
   "source": [
    "# INSERT command\n",
    "# INSERT allows the users to insert data in the database tables.\n",
    "mycursor = mydb.cursor()\n",
    "mycursor.execute(\"INSERT INTO classroom.student(rollno, mailid, phoneno, Name) VALUES(201501015, 'harishnandhan02@gmail.com', 93607, 'Harish Nandhan')\")\n",
    "mydb.commit()"
   ]
  },
  {
   "cell_type": "code",
   "execution_count": 6,
   "metadata": {},
   "outputs": [],
   "source": [
    "mycursor = mydb.cursor()\n",
    "mycursor.execute(\"INSERT INTO classroom.student(rollno, mailid, phoneno, Name) VALUES(201501016, 'harshinijayakumar2908@gmail.com', 84899, 'Harshini')\")\n",
    "mycursor.execute(\"INSERT INTO classroom.student(rollno, mailid, phoneno, Name) VALUES(201501014, 'hariprasathk2907@gmail.com', 86430, 'Hari Prasath')\")\n",
    "mydb.commit()"
   ]
  },
  {
   "cell_type": "code",
   "execution_count": 8,
   "metadata": {},
   "outputs": [],
   "source": [
    "# UPDATE Command\n",
    "# UPDATE Command is used to allow users to update or modify the existing data in the database\n",
    "mycursor = mydb.cursor()\n",
    "mycursor.execute(\"UPDATE classroom.student SET phoneno=70923 WHERE rollno=201501015\")\n"
   ]
  },
  {
   "cell_type": "code",
   "execution_count": 9,
   "metadata": {},
   "outputs": [],
   "source": [
    "# DELETE Command\n",
    "# DELETE Command is used to allow users to remove single or multiple existing records from the database tables.\n",
    "mycursor = mydb.cursor()\n",
    "mycursor.execute(\"DELETE FROM classroom.student WHERE rollno = 201501014\")"
   ]
  },
  {
   "cell_type": "markdown",
   "metadata": {},
   "source": [
    "# 4. What is DQL? Explain SELECT with an example."
   ]
  },
  {
   "cell_type": "markdown",
   "metadata": {},
   "source": [
    "DQL is **Data Query Language**\n",
    "DQL is used to fetch the data from the database.\n",
    "It uses only one command:\n",
    "- SELECT\n"
   ]
  },
  {
   "cell_type": "code",
   "execution_count": 11,
   "metadata": {},
   "outputs": [
    {
     "name": "stdout",
     "output_type": "stream",
     "text": [
      "(201501015, 'harishnandhan02@gmail.com', 70923, 'Harish Nandhan')\n",
      "(201501016, 'harshinijayakumar2908@gmail.com', 84899, 'Harshini')\n"
     ]
    },
    {
     "data": {
      "text/plain": [
       "True"
      ]
     },
     "execution_count": 11,
     "metadata": {},
     "output_type": "execute_result"
    }
   ],
   "source": [
    "# SELECT Command is used to select the attribute based on the condition described by WHERE Clause.\n",
    "\n",
    "mycursor = mydb.cursor()\n",
    "mycursor.execute(\"SELECT * FROM classroom.student\")\n",
    "rows = mycursor.fetchall()\n",
    "for i in rows:\n",
    "    print(i)\n",
    "mycursor.close()\n"
   ]
  },
  {
   "cell_type": "markdown",
   "metadata": {},
   "source": [
    "# 5. Explain Primary Key and Foreign Key."
   ]
  },
  {
   "cell_type": "code",
   "execution_count": 15,
   "metadata": {},
   "outputs": [],
   "source": [
    "mycursor = mydb.cursor()\n",
    "mycursor.execute(\"CREATE DATABASE if not exists college\")\n",
    "mycursor.execute(\"USE college\")\n",
    "mycursor.execute(\"CREATE TABLE IF NOT EXISTS student (studno INT, studname VARCHAR(50), studphone INT(20), studstate VARCHAR(50), studcountry VARCHAR(50), studage INT)\")\n",
    "mycursor.execute(\"CREATE TABLE IF NOT EXISTS student_course (studno INT, courseno VARCHAR(50), coursename VARCHAR(50))\")"
   ]
  },
  {
   "cell_type": "code",
   "execution_count": 17,
   "metadata": {},
   "outputs": [],
   "source": [
    "mycursor = mydb.cursor()\n",
    "mycursor.execute(\"INSERT INTO college.student(studno, studname, studphone, studstate, studcountry, studage) VALUES(1, 'RAM', 98756, 'Haryana','India',20)\")\n",
    "mycursor.execute(\"INSERT INTO college.student(studno, studname, studphone, studstate, studcountry, studage) VALUES(2, 'RAM', 95468, 'Tamilnadu','India',19)\")\n",
    "mycursor.execute(\"INSERT INTO college.student(studno, studname, studphone, studstate, studcountry, studage) VALUES(3, 'SUJIT', 93607, 'Andhrapradesh','India',18)\")\n",
    "mycursor.execute(\"INSERT INTO college.student(studno, studname, studphone, studstate, studcountry, studage) VALUES(4, 'SURESH', 98754, 'Illinois','Unitedstates',21)\")\n",
    "mycursor.execute(\"INSERT INTO college.student_course(studno, courseno, coursename) VALUES(1, 'C1', 'DBMS')\")\n",
    "mycursor.execute(\"INSERT INTO college.student_course(studno, courseno, coursename) VALUES(2, 'C2', 'Computer Networks')\")\n",
    "mycursor.execute(\"INSERT INTO college.student_course(studno, courseno, coursename) VALUES(1, 'C2', 'Computer Networks')\")\n",
    "mydb.commit()         "
   ]
  },
  {
   "cell_type": "markdown",
   "metadata": {},
   "source": [
    "# Primary key\n",
    "- A **primary key** is used to ensure that data in the specific column is unique.\n",
    "- A column cannot have NULL values.\n",
    "- It is either an existing table column or a column that is specifically generated by the database according to a defined sequence.\n",
    "- Example: here in the above table \"studno\" as well as \"studphone\" both are candidate keys for a relation student but studno can be choosen as the primary key (only one out of many candidate keys)\n",
    "\n"
   ]
  },
  {
   "cell_type": "markdown",
   "metadata": {},
   "source": [
    "# Foreign key\n",
    "- Foreign key is a column or group of columns in a relational database table that provides a link between data in two tables. \n",
    "- It is a column (or columns) that references a column (most often the primary key) of another table.\n",
    "- Example: 'studno' in 'student_course' is a foreign key to 'stud_no' in 'student' relation."
   ]
  },
  {
   "cell_type": "markdown",
   "metadata": {},
   "source": [
    "#  6. Write a python code to connect MySQL to python. Explain the cursor() and execute() method."
   ]
  },
  {
   "cell_type": "code",
   "execution_count": 19,
   "metadata": {},
   "outputs": [
    {
     "name": "stdout",
     "output_type": "stream",
     "text": [
      "<mysql.connector.connection_cext.CMySQLConnection object at 0x7f4d91d36d60>\n"
     ]
    }
   ],
   "source": [
    "import mysql.connector\n",
    "mydb = mysql.connector.connect(\n",
    "  host=\"localhost\",\n",
    "  user=\"abc\",\n",
    "  password=\"password\"\n",
    ")\n",
    "print(mydb)\n"
   ]
  },
  {
   "cell_type": "code",
   "execution_count": 20,
   "metadata": {},
   "outputs": [
    {
     "name": "stdout",
     "output_type": "stream",
     "text": [
      "(1, 'RAM', 98756, 'Haryana', 'India', 20)\n",
      "(2, 'RAM', 95468, 'Tamilnadu', 'India', 19)\n",
      "(3, 'SUJIT', 93607, 'Andhrapradesh', 'India', 18)\n",
      "(4, 'SURESH', 98754, 'Illinois', 'Unitedstates', 21)\n"
     ]
    },
    {
     "data": {
      "text/plain": [
       "True"
      ]
     },
     "execution_count": 20,
     "metadata": {},
     "output_type": "execute_result"
    }
   ],
   "source": [
    "mycursor = mydb.cursor()\n",
    "mycursor.execute(\"SELECT * FROM college.student\")\n",
    "rows = mycursor.fetchall()\n",
    "for i in rows:\n",
    "    print(i)\n",
    "mycursor.close()"
   ]
  },
  {
   "cell_type": "markdown",
   "metadata": {},
   "source": [
    "1. - **cursor()** method is used to create a cursor object, which is used to interact with the MySQL database. \n",
    "   - It returns a cursor object that you can use to execute SQL queries and fetch results.\n",
    "\n",
    "2. - **execute()** method is used to execute a SQL query. We can pass a SQL query as a parameter to the 'execute()' method. \n",
    "   - It returns 'None' if the query does not return any results (eg.INSERT, UPDATE, DELETE queries).\n",
    "   - If the query returns results (eg.SELECT query) we need to use the **'fetchall()'** method on the cursor object to fetch the results."
   ]
  },
  {
   "cell_type": "markdown",
   "metadata": {},
   "source": [
    "# 7. Give the order of execution of SQL clauses in an SQL query."
   ]
  },
  {
   "cell_type": "markdown",
   "metadata": {},
   "source": [
    "An SQL Query comprises of various clauses like SELECT, FROM, WHERE, GROUPBY, HAVING and ORDERBY clauses. Each clause has a specific role in the query.\n",
    "\n",
    "When we write a query, the query is processed in the following steps:\n",
    "- Getting data (FROM/JOIN)\n",
    "- Row Filter (WHERE)\n",
    "- Grouping (GROUP BY)\n",
    "- Group filter (HAVING)\n",
    "- Return Expression (SELECT)\n",
    "- Order & Paging (ORDER BY & LIMIT/OFFSET)"
   ]
  }
 ],
 "metadata": {
  "kernelspec": {
   "display_name": "Python 3.8.10 64-bit",
   "language": "python",
   "name": "python3"
  },
  "language_info": {
   "codemirror_mode": {
    "name": "ipython",
    "version": 3
   },
   "file_extension": ".py",
   "mimetype": "text/x-python",
   "name": "python",
   "nbconvert_exporter": "python",
   "pygments_lexer": "ipython3",
   "version": "3.8.10"
  },
  "orig_nbformat": 4,
  "vscode": {
   "interpreter": {
    "hash": "e7370f93d1d0cde622a1f8e1c04877d8463912d04d973331ad4851f04de6915a"
   }
  }
 },
 "nbformat": 4,
 "nbformat_minor": 2
}
